{
 "cells": [
  {
   "cell_type": "code",
   "execution_count": null,
   "metadata": {},
   "outputs": [],
   "source": [
    "from google.cloud import pubsub_v1\n",
    "import json\n",
    "import requests \n",
    "import time\n",
    "from google.oauth2 import service_account\n",
    "\n",
    "class BTC_API:\n",
    "    def __init__(self):\n",
    "        self.key = \"https://api.binance.com/api/v3/ticker/price?symbol=BTCUSDT\"\n",
    "        self.PROJECT_ID = \"big-d-project-404815\"\n",
    "        self.TOPIC_NAME = \"bitcoin-topic\"\n",
    "        self.topic_path = f\"projects/{self.PROJECT_ID}/topics/{self.TOPIC_NAME}\"\n",
    "    def get_data(self):\n",
    "        # requesting data from url \n",
    "        data = requests.get(self.key) \n",
    "        data = data.json() \n",
    "        return data\n",
    "\n",
    "    def send_to_pubsub(self, data):\n",
    "        # Konfiguracja klienta Pub/Sub\n",
    "        publisher = pubsub_v1.PublisherClient(\n",
    "            #login using json file\n",
    "            credentials=service_account.Credentials.from_service_account_file(\n",
    "                filename='../big-d-project-404815-e51da3ccf3cc.json'),\n",
    "        )\n",
    "        # Konwersja danych do formatu JSON\n",
    "        data_json = json.dumps(data)\n",
    "        # Publikowanie wiadomości\n",
    "        try:\n",
    "            publisher.publish(self.topic_path, data=data_json.encode('utf-8'))\n",
    "            print(f\"Message published : {data_json}\")\n",
    "        except Exception as e:\n",
    "            print(f\"Eror during publishing message: {e}\")\n",
    "\n",
    "    def listen_for_messages(self, wait_time=15):\n",
    "        while True:\n",
    "            time.sleep(wait_time)\n",
    "            data = self.get_data()\n",
    "            self.send_to_pubsub(data)\n",
    "            del data\n",
    "            \n",
    "if __name__ == \"__main__\":\n",
    "    btc_api = BTC_API()\n",
    "    btc_api.listen_for_messages()"
   ]
  },
  {
   "cell_type": "code",
   "execution_count": 7,
   "metadata": {},
   "outputs": [
    {
     "name": "stderr",
     "output_type": "stream",
     "text": [
      "..\n",
      "----------------------------------------------------------------------\n",
      "Ran 2 tests in 0.006s\n",
      "\n",
      "OK\n"
     ]
    },
    {
     "name": "stdout",
     "output_type": "stream",
     "text": [
      "Message published : {\"test\": \"data\"}\n"
     ]
    }
   ],
   "source": [
    "import unittest\n",
    "from unittest.mock import patch, MagicMock\n",
    "from api import BTC_API  # Replace 'your_module' with the actual name of your module\n",
    "\n",
    "class TestBTC_API(unittest.TestCase):\n",
    "\n",
    "    @patch('requests.get')\n",
    "    def test_get_data(self, mock_get):\n",
    "        # Setup mock response\n",
    "        mock_response = MagicMock()\n",
    "        mock_response.json.return_value = {'symbol': 'BTCUSDT', 'price': '12345.67'}\n",
    "        mock_get.return_value = mock_response\n",
    "\n",
    "        # Test get_data method\n",
    "        btc_api = BTC_API()\n",
    "        data = btc_api.get_data()\n",
    "        self.assertEqual(data, {'symbol': 'BTCUSDT', 'price': '12345.67'})\n",
    "\n",
    "    @patch('google.cloud.pubsub_v1.PublisherClient')\n",
    "    def test_send_to_pubsub(self, mock_publisher_client):\n",
    "        # Setup mock publisher\n",
    "        mock_publisher = MagicMock()\n",
    "        mock_publisher_client.return_value = mock_publisher\n",
    "\n",
    "        # Test send_to_pubsub method\n",
    "        btc_api = BTC_API()\n",
    "        btc_api.send_to_pubsub({'test': 'data'})\n",
    "\n",
    "        # Verify publish was called\n",
    "        mock_publisher.publish.assert_called_once()\n",
    "\n",
    "if __name__ == '__main__':\n",
    "    unittest.main(argv=['first-arg-is-ignored'], exit=False)\n"
   ]
  },
  {
   "cell_type": "code",
   "execution_count": null,
   "metadata": {},
   "outputs": [],
   "source": []
  }
 ],
 "metadata": {
  "kernelspec": {
   "display_name": "bigd",
   "language": "python",
   "name": "python3"
  },
  "language_info": {
   "codemirror_mode": {
    "name": "ipython",
    "version": 3
   },
   "file_extension": ".py",
   "mimetype": "text/x-python",
   "name": "python",
   "nbconvert_exporter": "python",
   "pygments_lexer": "ipython3",
   "version": "3.10.8"
  }
 },
 "nbformat": 4,
 "nbformat_minor": 2
}
