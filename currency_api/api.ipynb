{
 "cells": [
  {
   "cell_type": "code",
   "execution_count": 46,
   "metadata": {},
   "outputs": [],
   "source": [
    "from google.cloud import pubsub_v1\n",
    "import json\n",
    "import requests \n",
    "\n",
    "class BTC_API:\n",
    "    def __init__(self):\n",
    "        self.key = \"https://api.binance.com/api/v3/ticker/price?symbol=BTCUSDT\"\n",
    "\n",
    "    def get_data(self):\n",
    "        # requesting data from url \n",
    "        data = requests.get(key) \n",
    "        data = data.json() \n",
    "        return data\n",
    "\n",
    "    def send_to_pubsub(self, data):\n",
    "        # Konfiguracja klienta Pub/Sub\n",
    "        publisher = pubsub_v1.PublisherClient()\n",
    "        # Konwersja danych do formatu JSON\n",
    "        data_json = json.dumps(data)\n",
    "        # Publikowanie wiadomości\n",
    "        try:\n",
    "            publisher.publish(topic_path, data=data_json.encode('utf-8'))\n",
    "            print(f\"Message published : {data_json}\")\n",
    "        except Exception as e:\n",
    "            print(f\"Eror during publishing message: {e}\")\n",
    "\n",
    "    def listen_for_messages(self, wait_time=60):\n",
    "        while True:\n",
    "            time.sleep(wait_time)\n",
    "            data = self.get_data()\n",
    "            self.send_to_pubsub(data)\n",
    "            \n",
    "if __name__ == \"__main__\":\n",
    "    btc_api = BTC_API()\n",
    "    btc_api.listen_for_messages()"
   ]
  }
 ],
 "metadata": {
  "kernelspec": {
   "display_name": "bigd",
   "language": "python",
   "name": "python3"
  },
  "language_info": {
   "codemirror_mode": {
    "name": "ipython",
    "version": 3
   },
   "file_extension": ".py",
   "mimetype": "text/x-python",
   "name": "python",
   "nbconvert_exporter": "python",
   "pygments_lexer": "ipython3",
   "version": "3.10.8"
  }
 },
 "nbformat": 4,
 "nbformat_minor": 2
}
